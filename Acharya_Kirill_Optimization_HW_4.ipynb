{
 "cells": [
  {
   "cell_type": "markdown",
   "metadata": {
    "id": "0a6fcbb6"
   },
   "source": [
    "# Домашнее задание 4\n",
    "\n",
    "Это домашнее задание по материалам второго семинаров. Дедлайн по отправке - 23:55 3 марта. \n",
    "\n",
    "Домашнее задание выполняется в этом же Jupyter Notebook'e и присылается мне на почту: __beznosikov.an@phystech.edu__.\n",
    "\n",
    "Решение каждой задачи необходимо поместить после её условия.\n",
    "\n",
    "Файл должен называться: Фамилия_Имя_Optimization_HW_4\n",
    "\n",
    "При полном запуске Вашего решения (Kernel -> Restart & Run All) все ячейки должны выполняться без ошибок. "
   ]
  },
  {
   "cell_type": "markdown",
   "metadata": {
    "id": "969a8d32"
   },
   "source": [
    "## Задача 1\n",
    "\n",
    "Рассмотрим задачу минимизации:\n",
    "\\begin{equation}\n",
    "\\min_{x \\in \\triangle_d} f(x) = \\frac{1}{2}x^T A x,\n",
    "\\end{equation}\n",
    "где в качестве матрицы $A$ - случайная матрица (уже умеем генерировать) с $L =1000$, $\\mu = 1$, а $\\triangle_d$ - вероятностный симплекс:\n",
    "$$\n",
    "\\triangle_d = \\{x ~|~ x_i \\geq 0, \\sum_{i=1}^d x_i = 1\\}.\n",
    "$$\n",
    "\n",
    "__(а)__ Для такой задачи напишите итерацию зеркального спуска с дивергенцией Брегмана, порожденной энтропийной функцией. Найдите выражение для итерации метода в явном виде (без подсчетов $\\arg\\min$)."
   ]
  },
  {
   "cell_type": "markdown",
   "metadata": {
    "id": "V5671kS030Qz"
   },
   "source": [
    "$x^{k + 1} = \\arg\\min_{x \\in \\triangle_d}(γx^TAx^k + \\sum_{i=1}^d x_i \\log \\frac{x_i}{x^k_i})$\n",
    "\n",
    "The problem is convex so we can use the KKT to find minimum. Let's find the Lagrangian and derive a KKT condition:\n",
    "\n",
    "$L = γx^TAx^k + \\sum_{i=1}^d x_i \\log \\frac{x_i}{x^k_i}) + ν(\\sum_{i=1}^d x_i - 1)$\n",
    "\n",
    "$∇_{x}L = 0 ⇒ L'|_{x_i} = 0 = γ(Ax^k)_i + \\log \\frac{x_i}{x^k_i} + 1 + ν$\n",
    "\n",
    "$x_i = x_i^k \\exp{(-ν - γ(Ax^k)_i - 1)} = x_i^k \\frac{\\exp (-γ(Ax^k)_i)}{\\exp(1 + ν)}$\n",
    "\n",
    "Summing by all dimensions we get:\n",
    "\n",
    "$\\exp(1 + ν) = \\sum_{i=1}^d x_i^k \\exp (-γ(Ax^k)_i)$\n",
    "\n",
    "$$x_i = \\frac{x^k \\exp (-γ(Ax^k)_i)}{\\sum_{i=1}^d x_i^k \\exp (-γ(Ax^k)_i)}$$"
   ]
  },
  {
   "cell_type": "markdown",
   "metadata": {
    "id": "ecdb57fe"
   },
   "source": [
    "__(б)__ Реализуйте метод зеркального спуска из пункта (а). Постройте для него график сходимости по времени и по итерациям. В качестве критерия сходимости используйте:\n",
    "$$\n",
    "\\text{gap}(x^k) = \\max_{y \\in \\triangle_d} \\langle \\nabla f(x^k), x^k - y \\rangle,\n",
    "$$\n",
    "или усредненную версию $\\frac{1}{k} \\sum_{i=1}^k \\text{gap}(x^i)$. Найдите выражение в явном виде для подсчета $\\text{gap}(x^k)$."
   ]
  },
  {
   "cell_type": "markdown",
   "metadata": {
    "id": "RX3G88Ip-84y"
   },
   "source": [
    "$$\n",
    "\\text{gap}(x^k) = \\max_{y \\in \\triangle_d} \\langle \\nabla f(x^k), x^k - y \\rangle = \\max_{y \\in \\triangle_d}  (x^k)^TAx^k - \\min_{y \\in \\triangle_d}y^TAx^k = (x^k)^TAx^k - \\min_{i}(Ax^k)_i\n",
    "$$"
   ]
  },
  {
   "cell_type": "code",
   "execution_count": 2,
   "metadata": {
    "id": "VeoG7vH4AaYM"
   },
   "outputs": [],
   "source": [
    "import matplotlib.pyplot as plt\n",
    "from scipy.stats import ortho_group\n",
    "import numpy as np\n",
    "from datetime import datetime as dt"
   ]
  },
  {
   "cell_type": "code",
   "execution_count": 3,
   "metadata": {
    "id": "oydLWcJa_cyM"
   },
   "outputs": [],
   "source": [
    "def gen_A(d, mu, L): \n",
    "    U = ortho_group.rvs(dim = d)\n",
    "    A = mu * np.eye(d)\n",
    "    A[0][0] = L\n",
    "    return U.T @ A @ U\n",
    "\n",
    "def gap_criteria(x, A):\n",
    "    return x.T @ A @ x - np.min(A @ x)\n",
    "\n",
    "def f(x, A):\n",
    "    return 1/2 * x.T @ A @ x\n",
    "\n",
    "def grad_f(x, A):\n",
    "    return A @ x\n",
    "\n",
    "def mirror_descent(n_iter, X):\n",
    "    x = np.array([1/d for _ in range(d)])\n",
    "    crit_arr = []\n",
    "    times = []\n",
    "    t_0 = dt.now()\n",
    "    gamma = -1/L\n",
    "\n",
    "    for i in range(n_iter):\n",
    "        x = x * np.exp(gamma * A @ x) / (np.sum(x * np.exp(gamma * A @ x)))\n",
    "\n",
    "        crit_arr.append(gap_criteria(x, X))\n",
    "        times.append(to_diff(t_0, dt.now()))\n",
    "    \n",
    "    return crit_arr, times\n",
    "\n",
    "def plot_graph(x, y, x_label, y_label, title, logscale = True):\n",
    "    plt.plot(x, y)\n",
    "    if logscale == True:\n",
    "        plt.yscale('log')\n",
    "    plt.xlabel(x_label)\n",
    "    plt.ylabel(y_label)\n",
    "    plt.title(title)\n",
    "    plt.legend()\n",
    "    plt.show()\n",
    "\n",
    "def to_diff(t1, t2):\n",
    "    delta = t2 - t1\n",
    "    diff_in_seconds = delta.total_seconds()\n",
    "    return diff_in_seconds"
   ]
  },
  {
   "cell_type": "code",
   "execution_count": 4,
   "metadata": {
    "id": "U5vCmbg_AgaX"
   },
   "outputs": [],
   "source": [
    "L = 1000\n",
    "d = 10\n",
    "mu = 1\n",
    "A = gen_A(d, mu, L)\n",
    "n_iter = int(5e5)\n",
    "\n",
    "md_crit_arr, md_times = mirror_descent(n_iter, A)"
   ]
  },
  {
   "cell_type": "code",
   "execution_count": 5,
   "metadata": {
    "colab": {
     "base_uri": "https://localhost:8080/",
     "height": 631
    },
    "id": "1DNELg2FLiKp",
    "outputId": "8b924232-77e5-4a2f-ef65-ad3f1b2458b7"
   },
   "outputs": [
    {
     "name": "stderr",
     "output_type": "stream",
     "text": [
      "WARNING:matplotlib.legend:No artists with labels found to put in legend.  Note that artists whose label start with an underscore are ignored when legend() is called with no argument.\n"
     ]
    },
    {
     "data": {
      "image/png": "[encoded data removed]",
      "text/plain": [
       "<Figure size 432x288 with 1 Axes>"
      ]
     },
     "metadata": {
      "needs_background": "light"
     },
     "output_type": "display_data"
    },
    {
     "name": "stderr",
     "output_type": "stream",
     "text": [
      "WARNING:matplotlib.legend:No artists with labels found to put in legend.  Note that artists whose label start with an underscore are ignored when legend() is called with no argument.\n"
     ]
    },
    {
     "data": {
      "image/png": "[encoded data removed]",
      "text/plain": [
       "<Figure size 432x288 with 1 Axes>"
      ]
     },
     "metadata": {
      "needs_background": "light"
     },
     "output_type": "display_data"
    }
   ],
   "source": [
    "iter_arr = [_ for _ in range(n_iter)]\n",
    "\n",
    "plot_graph(iter_arr, md_crit_arr, \"n_iter\", \"Gap\", \"Mirror Descent, Gap criteria, log scale\")\n",
    "plot_graph(iter_arr, md_times,    \"n_iter\", \"Time, s\", \"Mirror Descent\")"
   ]
  },
  {
   "cell_type": "markdown",
   "metadata": {
    "id": "3fe201d2"
   },
   "source": [
    "__(в)__ Для этой же задачи напишите итерацию метода Франка-Вульфа. Реализуйте этот метод. Постройте для него график сходимости по времени и по итерациям. Добавьте эти графики к графикам для зеркального спуска. Сделайте вывод."
   ]
  },
  {
   "cell_type": "code",
   "execution_count": 1,
   "metadata": {
    "id": "d40582dc"
   },
   "outputs": [],
   "source": [
    "#ответ\n",
    "def frank_wolfe(n_iter, X):\n",
    "    x = np.array([1/d for _ in range(d)])\n",
    "\n",
    "    crit_arr = []\n",
    "    times = []\n",
    "    t_0 = dt.now()\n",
    "    \n",
    "    for k in range(n_iter):\n",
    "        s = np.zeros(d)\n",
    "        s[np.argmin(A @ x)] = 1\n",
    "        x = x + 2 / (k + 2) * (s - x)\n",
    "\n",
    "        crit_arr.append(gap_criteria(x, X))\n",
    "        times.append(to_diff(t_0, dt.now()))\n",
    "    \n",
    "    return crit_arr, times"
   ]
  },
  {
   "cell_type": "code",
   "execution_count": 6,
   "metadata": {
    "colab": {
     "base_uri": "https://localhost:8080/",
     "height": 631
    },
    "id": "n76X_gbxPTM8",
    "outputId": "feb5e9c6-3ec4-4ce8-e1fc-e939e893596f"
   },
   "outputs": [
    {
     "name": "stderr",
     "output_type": "stream",
     "text": [
      "WARNING:matplotlib.legend:No artists with labels found to put in legend.  Note that artists whose label start with an underscore are ignored when legend() is called with no argument.\n"
     ]
    },
    {
     "data": {
      "image/png": "[encoded data removed]",
      "text/plain": [
       "<Figure size 432x288 with 1 Axes>"
      ]
     },
     "metadata": {
      "needs_background": "light"
     },
     "output_type": "display_data"
    },
    {
     "name": "stderr",
     "output_type": "stream",
     "text": [
      "WARNING:matplotlib.legend:No artists with labels found to put in legend.  Note that artists whose label start with an underscore are ignored when legend() is called with no argument.\n"
     ]
    },
    {
     "data": {
      "image/png": "[encoded data removed]",
      "text/plain": [
       "<Figure size 432x288 with 1 Axes>"
      ]
     },
     "metadata": {
      "needs_background": "light"
     },
     "output_type": "display_data"
    }
   ],
   "source": [
    "fw_crit_arr, fw_times = frank_wolfe(n_iter, A)\n",
    "iter_arr = [_ for _ in range(n_iter)]\n",
    "\n",
    "plot_graph(iter_arr, fw_crit_arr, \"n_iter\", \"Gap\", \"Frank Wolfe, Gap criteria, log scale\")\n",
    "plot_graph(iter_arr, fw_times,    \"n_iter\", \"Time, s\", \"Frank Wolfe\")"
   ]
  },
  {
   "cell_type": "markdown",
   "metadata": {
    "id": "o3noLZXKODcT"
   },
   "source": [
    "**Conclusion**\n",
    "\n",
    "In this sample the Mirror method went well, although the Frank Wolfe burst ("
   ]
  },
  {
   "cell_type": "markdown",
   "metadata": {
    "id": "56317873"
   },
   "source": [
    "__Бонусные пункты__\n",
    "\n",
    "__(г)__ Реализуйте метод градиентного спуска для нашей задачи. Для этого найдите в Интернете алгоритм евклидовой проекции на вероятностный симплекс. Постройте для градиентного спуска с евклидовой проекцией график сходимости по времени и по итерациям. Добавьте эти графики к графикам для зеркального спуска и метода Франка-Вульфа. Сделайте вывод."
   ]
  },
  {
   "cell_type": "code",
   "execution_count": 7,
   "metadata": {
    "id": "caad1f26"
   },
   "outputs": [],
   "source": [
    "#ответ"
   ]
  },
  {
   "cell_type": "markdown",
   "metadata": {
    "id": "5de0ffdd"
   },
   "source": [
    "__(д)__ В [работе](https://sci-hub.ru/https://doi.org/10.1137/140992382) представлена ускоренная версия метода Франка-Вульфа (Алгоритм 2 для сильно выпуклой задачи). Он лучше с точки зрения теоретической сходимости по числу вызовов градиента. Реализуйте Алгоритм 2 для нашей задачи. Постройте график сходимости по времени и по количеству подсчетов $\\nabla f$ (для предыдущих методов это было эквивалетно итерациям). Добавьте эти графики к графикам для остальных методов которые были получены выше. Сделайте вывод."
   ]
  },
  {
   "cell_type": "code",
   "execution_count": 8,
   "metadata": {
    "id": "ead8a333"
   },
   "outputs": [],
   "source": [
    "#ответ"
   ]
  }
 ],
 "metadata": {
  "colab": {
   "provenance": []
  },
  "kernelspec": {
   "display_name": "Python 3",
   "language": "python",
   "name": "python3"
  },
  "language_info": {
   "codemirror_mode": {
    "name": "ipython",
    "version": 3
   },
   "file_extension": ".py",
   "mimetype": "text/x-python",
   "name": "python",
   "nbconvert_exporter": "python",
   "pygments_lexer": "ipython3",
   "version": "3.7.1"
  }
 },
 "nbformat": 4,
 "nbformat_minor": 5
}
