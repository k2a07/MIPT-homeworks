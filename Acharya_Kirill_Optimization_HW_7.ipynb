{
 "cells": [
  {
   "cell_type": "markdown",
   "id": "0a6fcbb6",
   "metadata": {},
   "source": [
    "# Домашнее задание 7\n",
    "\n",
    "Это домашнее задание по материалам второго семинаров. Дедлайн по отправке - 23:55 7 апреля. \n",
    "\n",
    "Домашнее задание выполняется в этом же Jupyter Notebook'e и присылается мне на почту: __beznosikov.an@phystech.edu__.\n",
    "\n",
    "Решение каждой задачи необходимо поместить после её условия.\n",
    "\n",
    "Файл должен называться: Фамилия_Имя_Optimization_HW_7\n",
    "\n",
    "При полном запуске Вашего решения (Kernel -> Restart & Run All) все ячейки должны выполняться без ошибок. "
   ]
  },
  {
   "cell_type": "markdown",
   "id": "969a8d32",
   "metadata": {},
   "source": [
    "## Задача 1\n",
    "\n",
    "Рассмотрим \"распределенную\" задачу минимизации:\n",
    "\\begin{equation}\n",
    "\\min_{x \\in \\mathbb{R}^d} f(x) = \\frac{1}{n} \\sum\\limits_{i=1}^n f_i(x) = \\frac{1}{2n} \\sum\\limits_{i=1}^n x^T A_i x - b^T_i x,\n",
    "\\end{equation}\n",
    "где $n = 10$, в качестве матриц $\\{A_i\\}_{i=1}^n$ - случайные матрицы с $L =1000$, $\\mu = 1$, $d = 100$, $\\{b_i\\}_{i=1}^n$ - так же случайные векторы.\n",
    "\n",
    "__(а)__ Для такой задачи симулируем распределенное решение (вычисления на 1 компьютере, без распараллеливания). \n",
    "Реализуйте обычный распределенный градиентый спуск с операторами сжатия. Сжимайте информацию только от устройств к серверу. Используйте операторы сжатия $\\text{Rand}1\\%$, $\\text{Rand}5\\%$, $\\text{Rand}10\\%$, $\\text{Rand}20\\%$. Для каждого случая подберите шаг $\\gamma$ для наилучшей сходимости, постройте сравнительный график сходимости (по оси $y$ - критерий $\\| \\nabla f(x^k)\\|^2$, а по оси $x$ - число \"переданной информации\" от устройств к серверу). Сделайте вывод."
   ]
  },
  {
   "cell_type": "code",
   "execution_count": 1,
   "id": "1340b577",
   "metadata": {},
   "outputs": [],
   "source": [
    "import my_optimization as opt\n",
    "import numpy as np"
   ]
  },
  {
   "cell_type": "code",
   "execution_count": 2,
   "id": "2a197ffd",
   "metadata": {},
   "outputs": [],
   "source": [
    "#generating the problem setting\n",
    "args = {}\n",
    "args['n_workers'] = 10\n",
    "args['L'] = 1000\n",
    "args['mu'] = 1\n",
    "args['d'] = 100\n",
    "args['seed'] = 40\n",
    "\n",
    "np.random.seed(args['seed'])\n",
    "args['A_list'] = [opt.gen_A(args['d'], args['mu'] , args['L']) for i in range(args['n_workers'])]\n",
    "args['b_list'] = [np.random.rand(args['d']) for i in range(args['n_workers'])]\n",
    "x_0    = np.random.random_sample(args['d'])\n",
    "\n",
    "def d_f_quad(x, args):\n",
    "    res = 0\n",
    "    for i in range(args['n_workers']):\n",
    "        res += 1./2 * x.T @ args['A_list'][i] @ x - args['b'][i] @ x\n",
    "    return res / 2 * args['n_workers']\n",
    "\n",
    "def d_f_quad_grad(x, args):\n",
    "    grad_list = []\n",
    "    for i in range(args['n_workers']):\n",
    "         grad_list.append(args['A_list'][i] @ x - args['b_list'][i])\n",
    "    return grad_list"
   ]
  },
  {
   "cell_type": "code",
   "execution_count": 3,
   "id": "e4ed19a4",
   "metadata": {},
   "outputs": [],
   "source": [
    "#applying our algorithms\n",
    "x, y, labels = [], [], []\n",
    "FLOAT_BYTES = 4\n",
    "n_iter = 1000\n",
    "\n",
    "compression_coeffs = [0.01, 0.05, 0.1, 0.2]\n",
    "#n_iter_list = [int(1000 / (100*n)) for n in compression_coeffs]\n",
    "rand_k_params_list = [int(args['d'] * v) for v in compression_coeffs]\n",
    "\n",
    "def rand_k_gd_gamma_th(k, f, grad_f, x_k, x_true, args):\n",
    "        return 1/(4 * args['L'])\n",
    "\n",
    "for i in range(len(compression_coeffs)):\n",
    "    information = [compression_coeffs[i] * FLOAT_BYTES * _ for _ in range(n_iter)]\n",
    "    x.append(information)\n",
    "\n",
    "    rand_k_gd_th = opt.GradientOptimizer(d_f_quad, d_f_quad_grad, x_0, criterium = '||grad_f(x_k)||', \n",
    "                                        args = args, n_iter = n_iter, gamma_k = rand_k_gd_gamma_th, n_workers = args['n_workers'],\n",
    "                                        rand_k_activate = True, rand_k_param =  rand_k_params_list[i])\n",
    "\n",
    "    points_arr, differences_arr, times_arr = rand_k_gd_th.descent()\n",
    "\n",
    "    y.append(differences_arr)\n",
    "    #labels.append(r\"Rand-, $\\gamma = \\frac{%i}{4L}$\" % 1)\n",
    "    labels.append(r\"Rand-$%i   \\gamma = \\frac{1}{4L}$\" % rand_k_params_list[i])\n"
   ]
  },
  {
   "cell_type": "code",
   "execution_count": 4,
   "id": "211df551",
   "metadata": {},
   "outputs": [
    {
     "data": {
      "image/png": "[encoded data removed]",
      "text/plain": [
       "<Figure size 576x576 with 1 Axes>"
      ]
     },
     "metadata": {
      "needs_background": "light"
     },
     "output_type": "display_data"
    }
   ],
   "source": [
    "opt.plot_graphs(x, y, x_label = \"Information, bytes\", lines_labels = labels, title = \"Rand K\", logscale = True, criteria_type = \"||grad_f||^2\")"
   ]
  },
  {
   "attachments": {},
   "cell_type": "markdown",
   "id": "81d637e3",
   "metadata": {},
   "source": [
    "### Conclusion\n",
    "With the current theoretical learning rate the best result in terms of the speed of convergence achieves Rand-10, probably because the case is more independent (we have $d = 100, n = 10, k = 10$, so we choose the same coordinates less possibly and the overall coverage is pretty good)"
   ]
  },
  {
   "cell_type": "markdown",
   "id": "ecdb57fe",
   "metadata": {},
   "source": [
    "__(б)__ Теперь будем использовать в качестве операторов сжатия $\\text{Top}10\\%$. Сжимайте информацию только от устройств к серверу. Используйте два метода: обычный распределенный градиентный спуск с операторами сжатия, также распределенный градиентный спуск с техникой компесации ошибки (error feedback - смотри Алгоритм 1 из [статьи](https://arxiv.org/abs/2002.12410)). Для каждого метода подберите шаг $\\gamma$ для наилучшей сходимости, постройте сравнительный график сходимости (по оси $y$ - критерий $\\| \\nabla f(x^k)\\|^2$, а по оси $x$ - число итераций/коммуникаций). Сделайте вывод."
   ]
  },
  {
   "cell_type": "code",
   "execution_count": 5,
   "id": "46b1db1d",
   "metadata": {},
   "outputs": [],
   "source": [
    "x, y, labels = [], [], []\n",
    "n_iter = 1000\n",
    "compression_coeff = 0.1\n",
    "top_k_param = int(args['d'] * compression_coeff)\n",
    "\n",
    "def top_k_gd_gamma_th(k, f, grad_f, x_k, x_true, args):\n",
    "        return args['c']/(args['L'])\n",
    "\n",
    "c_arr = [1, 1.5, 2]\n",
    "\n",
    "for args['c'] in c_arr:\n",
    "    n_communications = [args['n_workers'] * _ for _ in range(n_iter)]\n",
    "    x.append(n_communications)\n",
    "\n",
    "    #Basic TopK\n",
    "    top_k_gd_th = opt.GradientOptimizer(d_f_quad, d_f_quad_grad, x_0, criterium = '||grad_f(x_k)||', \n",
    "                                        args = args, n_iter = n_iter, gamma_k = top_k_gd_gamma_th, n_workers = args['n_workers'],\n",
    "                                        top_k_activate = True, top_k_param =  top_k_param)\n",
    "\n",
    "    points_arr, differences_arr, times_arr = top_k_gd_th.descent()\n",
    "\n",
    "    y.append(differences_arr)\n",
    "    labels.append(r\"Top-10, $\\gamma = \\frac{%i}{L}$\" % args['c'])\n",
    "    \n",
    "    #Error Feedback\n",
    "    x.append(n_communications)\n",
    "    \n",
    "    ef_top_k_gd_th = opt.GradientOptimizer(d_f_quad, d_f_quad_grad, x_0, criterium = '||grad_f(x_k)||', \n",
    "                                        args = args, n_iter = n_iter, gamma_k = top_k_gd_gamma_th, n_workers = args['n_workers'],\n",
    "                                        ef_activate = True, top_k_param =  top_k_param)\n",
    "\n",
    "    points_arr, differences_arr, times_arr = ef_top_k_gd_th.descent()\n",
    "\n",
    "    y.append(differences_arr)\n",
    "    labels.append(r\"EF Top-10, $\\gamma = \\frac{%i}{L}$\" % args['c'])"
   ]
  },
  {
   "cell_type": "code",
   "execution_count": 7,
   "id": "b253aa31",
   "metadata": {},
   "outputs": [
    {
     "name": "stdout",
     "output_type": "stream",
     "text": [
      "3 6\n"
     ]
    }
   ],
   "source": [
    "print(len(x), len(y))"
   ]
  },
  {
   "cell_type": "code",
   "execution_count": 6,
   "id": "36653071",
   "metadata": {},
   "outputs": [
    {
     "ename": "IndexError",
     "evalue": "list index out of range",
     "output_type": "error",
     "traceback": [
      "\u001b[1;31m---------------------------------------------------------------------------\u001b[0m",
      "\u001b[1;31mIndexError\u001b[0m                                Traceback (most recent call last)",
      "\u001b[1;32m<ipython-input-6-3ebe33f4fda7>\u001b[0m in \u001b[0;36m<module>\u001b[1;34m\u001b[0m\n\u001b[1;32m----> 1\u001b[1;33m \u001b[0mopt\u001b[0m\u001b[1;33m.\u001b[0m\u001b[0mplot_graphs\u001b[0m\u001b[1;33m(\u001b[0m\u001b[0mx\u001b[0m\u001b[1;33m,\u001b[0m \u001b[0my\u001b[0m\u001b[1;33m,\u001b[0m \u001b[0mx_label\u001b[0m \u001b[1;33m=\u001b[0m \u001b[1;34m\"Communications\"\u001b[0m\u001b[1;33m,\u001b[0m \u001b[0mlines_labels\u001b[0m \u001b[1;33m=\u001b[0m \u001b[0mlabels\u001b[0m\u001b[1;33m,\u001b[0m \u001b[0mtitle\u001b[0m \u001b[1;33m=\u001b[0m \u001b[1;34m\"Top K\"\u001b[0m\u001b[1;33m,\u001b[0m \u001b[0mlogscale\u001b[0m \u001b[1;33m=\u001b[0m \u001b[1;32mFalse\u001b[0m\u001b[1;33m,\u001b[0m \u001b[0mcriteria_type\u001b[0m \u001b[1;33m=\u001b[0m \u001b[1;34m\"||grad_f||^2\"\u001b[0m\u001b[1;33m)\u001b[0m\u001b[1;33m\u001b[0m\u001b[1;33m\u001b[0m\u001b[0m\n\u001b[0m",
      "\u001b[1;32mc:\\Users\\HP\\Desktop\\МФТИ\\S6\\Optimization S2\\HW\\Kirill-Acharya-MIPT\\my_optimization.py\u001b[0m in \u001b[0;36mplot_graphs\u001b[1;34m(x, y, x_label, lines_labels, title, logscale, specific_slice, criteria_type)\u001b[0m\n\u001b[0;32m    258\u001b[0m     \u001b[0mplt\u001b[0m\u001b[1;33m.\u001b[0m\u001b[0mfigure\u001b[0m\u001b[1;33m(\u001b[0m\u001b[0mfigsize\u001b[0m\u001b[1;33m=\u001b[0m\u001b[1;33m(\u001b[0m\u001b[1;36m8\u001b[0m\u001b[1;33m,\u001b[0m \u001b[1;36m8\u001b[0m\u001b[1;33m)\u001b[0m\u001b[1;33m)\u001b[0m\u001b[1;33m\u001b[0m\u001b[1;33m\u001b[0m\u001b[0m\n\u001b[0;32m    259\u001b[0m     \u001b[1;32mfor\u001b[0m \u001b[0mi\u001b[0m \u001b[1;32min\u001b[0m \u001b[0mspecific_slice\u001b[0m\u001b[1;33m:\u001b[0m\u001b[1;33m\u001b[0m\u001b[1;33m\u001b[0m\u001b[0m\n\u001b[1;32m--> 260\u001b[1;33m         \u001b[0mplt\u001b[0m\u001b[1;33m.\u001b[0m\u001b[0mplot\u001b[0m\u001b[1;33m(\u001b[0m\u001b[0mx\u001b[0m\u001b[1;33m[\u001b[0m\u001b[0mi\u001b[0m\u001b[1;33m]\u001b[0m\u001b[1;33m,\u001b[0m \u001b[0my\u001b[0m\u001b[1;33m[\u001b[0m\u001b[0mi\u001b[0m\u001b[1;33m]\u001b[0m\u001b[1;33m,\u001b[0m \u001b[0mlabel\u001b[0m \u001b[1;33m=\u001b[0m \u001b[0mlines_labels\u001b[0m\u001b[1;33m[\u001b[0m\u001b[0mi\u001b[0m\u001b[1;33m]\u001b[0m\u001b[1;33m)\u001b[0m\u001b[1;33m\u001b[0m\u001b[1;33m\u001b[0m\u001b[0m\n\u001b[0m\u001b[0;32m    261\u001b[0m     \u001b[1;32mif\u001b[0m \u001b[0mlogscale\u001b[0m \u001b[1;33m==\u001b[0m \u001b[1;32mTrue\u001b[0m\u001b[1;33m:\u001b[0m\u001b[1;33m\u001b[0m\u001b[1;33m\u001b[0m\u001b[0m\n\u001b[0;32m    262\u001b[0m         \u001b[0mplt\u001b[0m\u001b[1;33m.\u001b[0m\u001b[0myscale\u001b[0m\u001b[1;33m(\u001b[0m\u001b[1;34m'log'\u001b[0m\u001b[1;33m)\u001b[0m\u001b[1;33m\u001b[0m\u001b[1;33m\u001b[0m\u001b[0m\n",
      "\u001b[1;31mIndexError\u001b[0m: list index out of range"
     ]
    },
    {
     "data": {
      "image/png": "[encoded data removed]",
      "text/plain": [
       "<Figure size 576x576 with 1 Axes>"
      ]
     },
     "metadata": {
      "needs_background": "light"
     },
     "output_type": "display_data"
    }
   ],
   "source": [
    "opt.plot_graphs(x, y, x_label = \"Communications\", lines_labels = labels, title = \"Top K\", logscale = False, criteria_type = \"||grad_f||^2\")"
   ]
  },
  {
   "cell_type": "markdown",
   "id": "c50d27e1",
   "metadata": {},
   "source": [
    "## Задача 2\n",
    "\n",
    "Рассмотрим задачу логистической регрессии на датасете mushrooms с $\\ell_2$-регуляризацией (коэффициент регуляризации равен $\\frac{L}{1000}$). \n",
    "\n",
    "__(а)__ Симмулируем распределенное решение. Для этого разделите обучающую выборку случайно и равномерно на $n=10$ частей. Каждая такая часть сформирует $f_i$."
   ]
  },
  {
   "cell_type": "code",
   "execution_count": null,
   "id": "3cfdcc4e",
   "metadata": {},
   "outputs": [],
   "source": [
    "#ответ"
   ]
  },
  {
   "cell_type": "markdown",
   "id": "f5f7c504",
   "metadata": {},
   "source": [
    "__(б)__ Реализуйте симмуляцию (как в Задаче 1) обычного распределенного градиентного спуска с операторами сжатия, распределенного градиентного спуска с техникой error feedback, алгоритма DIANA (смотри Алгоритм 11 из [статьи](https://arxiv.org/abs/1905.11261)). Сжатия происходят только при пересылке от сервера к устройствам."
   ]
  },
  {
   "cell_type": "code",
   "execution_count": null,
   "id": "e48c3edf",
   "metadata": {},
   "outputs": [],
   "source": [
    "#ответ"
   ]
  },
  {
   "cell_type": "markdown",
   "id": "d1335c12",
   "metadata": {},
   "source": [
    "__(в)__ Используйте операторы сжатия $\\text{Top}10\\%$ и $\\text{Rand}10\\%$ во всех трех методах (всего получается 6 разных подходов). Для каждого подхода подберите шаг $\\gamma$ для наилучшей сходимости, постройте 2 сравнительных графика сходимости (по оси $y$ - критерий $\\| \\nabla f(x^k)\\|^2$ или точность предсказаний, а по оси $x$ - число итераций/коммуникаций). Сделайте вывод."
   ]
  },
  {
   "cell_type": "code",
   "execution_count": null,
   "id": "5bb8952e",
   "metadata": {},
   "outputs": [],
   "source": [
    "#ответ"
   ]
  },
  {
   "cell_type": "markdown",
   "id": "56317873",
   "metadata": {},
   "source": [
    "__Бонусные пункты__\n",
    "\n",
    "__(г)__ Реализуйте два метода: [EF21](https://proceedings.neurips.cc/paper/2021/hash/231141b34c82aa95e48810a9d1b33a79-Abstract.html) и [MARINA](https://arxiv.org/abs/2102.07845). Добавьте их к сравнительному анализу из пункта (в) (здесь важно обратить внимание на особенности алгоритма MARINA и отразить это в анализе). Сделайте вывод. "
   ]
  },
  {
   "cell_type": "code",
   "execution_count": null,
   "id": "caad1f26",
   "metadata": {},
   "outputs": [],
   "source": [
    "#ответ"
   ]
  },
  {
   "cell_type": "markdown",
   "id": "5de0ffdd",
   "metadata": {},
   "source": [
    "__(д)__ Добавьте в лучшие 3 (на Ваш взгляд) метода (обычный GD с оператором сжатия, GD с EF, DIANA, EF21, MARINA) возможность сжимать и при передаче от сервера к устройству. Для сжатия используйте только $\\text{Top}10\\%$ и $\\text{Rand}10\\%$. Проведите серию экспериментов и ответьте на следующие пункты:\n",
    "\n",
    "1) Если при сжатии на сервере используются $\\text{Top}10\\%$ нужно ли использовать технику компесации ошибки на сервере? Опишите, как добавляли еe в метод (лучший вариант - выписать алгоритм частично или целиком). \n",
    "\n",
    "2) Перебирая разные комбинации из операторов $\\text{Top}10\\%$ и $\\text{Rand}10\\%$ для сжатия на сервера и на устройствах, найдите лучшую конфигурацию операторов сжатия для каждого метода.\n",
    "\n",
    "3) Какой метод и с каким операторами показал в итоге лучшие результаты? Использовался ли при этом дополнительный error feedback на сервере? "
   ]
  },
  {
   "cell_type": "code",
   "execution_count": null,
   "id": "ead8a333",
   "metadata": {},
   "outputs": [],
   "source": [
    "#ответ"
   ]
  }
 ],
 "metadata": {
  "kernelspec": {
   "display_name": "Python 3",
   "language": "python",
   "name": "python3"
  },
  "language_info": {
   "codemirror_mode": {
    "name": "ipython",
    "version": 3
   },
   "file_extension": ".py",
   "mimetype": "text/x-python",
   "name": "python",
   "nbconvert_exporter": "python",
   "pygments_lexer": "ipython3",
   "version": "3.7.16"
  }
 },
 "nbformat": 4,
 "nbformat_minor": 5
}
