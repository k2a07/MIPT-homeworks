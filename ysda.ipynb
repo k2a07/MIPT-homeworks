{
 "cells": [
  {
   "cell_type": "code",
   "execution_count": null,
   "metadata": {},
   "outputs": [],
   "source": [
    "#K\n",
    "import random\n",
    "\n",
    "n = int(input())\n",
    "dice_arr = []\n",
    "for i in range(n):\n",
    "    dice_arr.append([int(x) for x in input().split()])"
   ]
  },
  {
   "cell_type": "code",
   "execution_count": 22,
   "metadata": {},
   "outputs": [
    {
     "name": "stdout",
     "output_type": "stream",
     "text": [
      "[3, 4]\n"
     ]
    }
   ],
   "source": [
    "my_array = [1, 2, 3, 4, 5]\n",
    "random_indexes = random.sample(range(len(my_array)), 2)\n",
    "print(random_indexes)"
   ]
  },
  {
   "cell_type": "code",
   "execution_count": 27,
   "metadata": {},
   "outputs": [],
   "source": [
    "#K\n",
    "import random\n",
    "\n",
    "n = int(input())\n",
    "dice_arr = []\n",
    "for i in range(n):\n",
    "    dice_arr.append([int(x) for x in input().split()])\n",
    "\n",
    "#dice_arr = [[1, 2, 3, 4, 5, 6], [6, 5, 4, 3, 2, 1]]\n",
    "#dice_arr = [[1, 2, 1, 2, 1, 2], [4, 4, 4, 4, 4, 4], [2, 2, 2, 3, 3, 3]]\n",
    "#dice_arr = [[]]\n",
    "res = 0\n",
    "n_iter = 10000000\n",
    "for j in range(n_iter):\n",
    "    random_indexes = random.sample(range(len(dice_arr)), 2)\n",
    "    \n",
    "    first, second = dice_arr[random_indexes[0]], dice_arr[random_indexes[1]] \n",
    "    a, b = first[random.randrange(6)], second[random.randrange(6)]\n",
    "    res += max(a, b)**3\n",
    "res /= n_iter\n",
    "print(res)\n"
   ]
  },
  {
   "cell_type": "code",
   "execution_count": 4,
   "metadata": {},
   "outputs": [
    {
     "data": {
      "text/plain": [
       "[[1, 2, 3, 4, 5, 6]]"
      ]
     },
     "execution_count": 4,
     "metadata": {},
     "output_type": "execute_result"
    }
   ],
   "source": [
    "shuffled"
   ]
  }
 ],
 "metadata": {
  "kernelspec": {
   "display_name": "Python 3",
   "language": "python",
   "name": "python3"
  },
  "language_info": {
   "codemirror_mode": {
    "name": "ipython",
    "version": 3
   },
   "file_extension": ".py",
   "mimetype": "text/x-python",
   "name": "python",
   "nbconvert_exporter": "python",
   "pygments_lexer": "ipython3",
   "version": "3.8.5"
  },
  "orig_nbformat": 4
 },
 "nbformat": 4,
 "nbformat_minor": 2
}
